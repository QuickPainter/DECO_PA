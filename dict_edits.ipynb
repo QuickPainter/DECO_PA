{
 "cells": [
  {
   "cell_type": "code",
   "execution_count": 1,
   "metadata": {},
   "outputs": [],
   "source": [
    "import pandas as pd\n",
    "import numpy as np\n",
    "import disk_dictionary"
   ]
  },
  {
   "cell_type": "code",
   "execution_count": 4,
   "metadata": {},
   "outputs": [
    {
     "ename": "SyntaxError",
     "evalue": "invalid syntax (268073911.py, line 1)",
     "output_type": "error",
     "traceback": [
      "\u001b[0;36m  Cell \u001b[0;32mIn[4], line 1\u001b[0;36m\u001b[0m\n\u001b[0;31m    pip3 install astro-eddy\u001b[0m\n\u001b[0m         ^\u001b[0m\n\u001b[0;31mSyntaxError\u001b[0m\u001b[0;31m:\u001b[0m invalid syntax\n"
     ]
    }
   ],
   "source": []
  },
  {
   "cell_type": "code",
   "execution_count": 2,
   "metadata": {},
   "outputs": [],
   "source": [
    "disk_dict = disk_dictionary.disk_dict\n",
    "dict_df = pd.DataFrame.from_dict(disk_dict)\n",
    "\n",
    "R0ph_dict = disk_dict['ROph']\n",
    "Lupus_dict = disk_dict['Lupus']\n",
    "Taurus_dict = disk_dict['Taurus']\n",
    "ChaI_dict = disk_dict['ChaI']\n"
   ]
  },
  {
   "cell_type": "code",
   "execution_count": 3,
   "metadata": {},
   "outputs": [
    {
     "name": "stdout",
     "output_type": "stream",
     "text": [
      "J162755.6-242618 i: --'] PA: --\n",
      "J162616.8-242223 i: --'] PA: --\n",
      "J162713.7-241817 i: --'] PA: --\n",
      "J162854.1-244744 i: 49.8666101292059'] PA: 122.3\n",
      "J162649.0-243825 i: 22.1153384572256'] PA: 83.4\n",
      "J162645.0-242308 i: 51.4392501285232'] PA: 118.9\n",
      "J162636.8-241552 i: 31.3025863798542'] PA: 61.8\n",
      "J162739.4-243915 i: 36.2042572124497'] PA: 103.7\n",
      "J162816.5-243658 i: 22.0793620686638'] PA: 135.5\n",
      "J162618.9-242820 i: 0'] PA: 29.7\n",
      "J162730.2-242743 i: 87'] PA: 61.0\n",
      "J162536.7-241542 i: 74.3867317674065'] PA: 14.2\n",
      "J162656.8-241351 i: 63.6351502556472'] PA: 50.8\n",
      "J162733.1-244115 i: --'] PA: --\n",
      "J162739.0-235818 i: 0'] PA: 11.9\n",
      "J162823.3-242241 i: 63.400664599528'] PA: 56.0\n",
      "J162738.3-243658 i: 69.5808719937306'] PA: 16.1\n",
      "J162556.1-242048 i: 17.2602483746306'] PA: 37.3\n",
      "J162623.6-242439 i: 71.1704281249793'] PA: 48.3\n",
      "J162624.1-241613 i: 0'] PA: 7.0\n"
     ]
    }
   ],
   "source": [
    "for key, value in R0ph_dict.items():\n",
    "    print(key, f\"i: {R0ph_dict[key]['inclination']}']\", f\"PA: {R0ph_dict[key]['PA']}\")"
   ]
  },
  {
   "cell_type": "code",
   "execution_count": 6,
   "metadata": {},
   "outputs": [],
   "source": [
    "Sz68_comments = [-0.11928359623126408 , -0.180098992810514 , 186.28265278280549]\n",
    "Sz90 = [-0.0002945435540919418, -0.0002426422067969969, 138.49499067491755, (47,87,127,148)]\n",
    "Sz96 = [0.0648978606121038 , -0.005309578057703232 , 30.769087945030012, (0,124,0,124)]"
   ]
  },
  {
   "cell_type": "code",
   "execution_count": null,
   "metadata": {},
   "outputs": [],
   "source": []
  }
 ],
 "metadata": {
  "kernelspec": {
   "display_name": "disks",
   "language": "python",
   "name": "python3"
  },
  "language_info": {
   "codemirror_mode": {
    "name": "ipython",
    "version": 3
   },
   "file_extension": ".py",
   "mimetype": "text/x-python",
   "name": "python",
   "nbconvert_exporter": "python",
   "pygments_lexer": "ipython3",
   "version": "3.8.5"
  }
 },
 "nbformat": 4,
 "nbformat_minor": 2
}
